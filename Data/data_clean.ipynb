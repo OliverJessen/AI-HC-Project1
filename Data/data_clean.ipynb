{
 "cells": [
  {
   "cell_type": "markdown",
   "id": "6ef84980",
   "metadata": {},
   "source": [
    "## First we download the data"
   ]
  },
  {
   "cell_type": "code",
   "execution_count": 9,
   "id": "e102e328",
   "metadata": {},
   "outputs": [
    {
     "name": "stdout",
     "output_type": "stream",
     "text": [
      "           word        count\n",
      "0           the  23135851162\n",
      "1            of  13151942776\n",
      "2           and  12997637966\n",
      "3            to  12136980858\n",
      "4             a   9081174698\n",
      "...         ...          ...\n",
      "333328    gooek        12711\n",
      "333329   gooddg        12711\n",
      "333330  gooblle        12711\n",
      "333331   gollgo        12711\n",
      "333332    golgw        12711\n",
      "\n",
      "[333333 rows x 2 columns] <class 'pandas.core.frame.DataFrame'>\n"
     ]
    }
   ],
   "source": [
    "import csv\n",
    "import os\n",
    "import pandas as pd\n",
    "\n",
    "def read_csv_file(file_path):\n",
    "    if not os.path.isfile(file_path):\n",
    "        raise FileNotFoundError(f\"The file {file_path} does not exist.\")\n",
    "    \n",
    "    with open(file_path, mode='r', newline='', encoding='utf-8') as csvfile:\n",
    "        reader = csv.reader(csvfile)\n",
    "        data = [row for row in reader]\n",
    "    \n",
    "    return data\n",
    "\n",
    "filepath = os.getcwd() + '/unigram_freq.csv'\n",
    "\n",
    "data = read_csv_file(filepath)\n",
    "\n",
    "data = pd.read_csv(filepath) # changing to pandas for easier data manipulation\n",
    "\n",
    "print(data, type(data)) # Uncomment this line to see the data read from the CSV file"
   ]
  },
  {
   "cell_type": "markdown",
   "id": "cd3d17f1",
   "metadata": {},
   "source": [
    "## Now we clean the data"
   ]
  },
  {
   "cell_type": "code",
   "execution_count": 15,
   "id": "b94edd18",
   "metadata": {},
   "outputs": [
    {
     "name": "stdout",
     "output_type": "stream",
     "text": [
      "cleaned data:\n",
      "  word\n",
      "0  the\n",
      "1  and\n",
      "2  for\n",
      "3  you\n",
      "4  not\n",
      "data shape: (12976, 1)\n"
     ]
    }
   ],
   "source": [
    "# Drop missing values\n",
    "data_clean = data.dropna()\n",
    "\n",
    "# Drop duplicate rows\n",
    "data_clean = data_clean.drop_duplicates(keep=False)\n",
    "\n",
    "# Keep only rows where first column (assume it's the first by index, not by name) has length == 3\n",
    "first_col = data_clean.columns[0]\n",
    "data_clean = data_clean[data_clean[first_col].str.len() == 3]\n",
    "\n",
    "# drop second column (assume it's the second by index, not by name)\n",
    "second_col = data_clean.columns[1]\n",
    "data_clean = data_clean.drop(columns=[second_col])\n",
    "\n",
    "# Reset index\n",
    "data_clean = data_clean.reset_index(drop=True)\n",
    "\n",
    "print(f\"cleaned data:\\n{data_clean.head()}\\ndata shape: {data_clean.shape}\") # Uncomment this line to see the cleaned data\n"
   ]
  }
 ],
 "metadata": {
  "kernelspec": {
   "display_name": "base",
   "language": "python",
   "name": "python3"
  },
  "language_info": {
   "codemirror_mode": {
    "name": "ipython",
    "version": 3
   },
   "file_extension": ".py",
   "mimetype": "text/x-python",
   "name": "python",
   "nbconvert_exporter": "python",
   "pygments_lexer": "ipython3",
   "version": "3.11.10"
  }
 },
 "nbformat": 4,
 "nbformat_minor": 5
}
