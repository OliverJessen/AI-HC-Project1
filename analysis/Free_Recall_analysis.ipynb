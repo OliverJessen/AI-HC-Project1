{
 "cells": [
  {
   "cell_type": "markdown",
   "id": "2027d45e",
   "metadata": {},
   "source": [
    "# Her analysere vi dataen ift til primacy og recall osv "
   ]
  },
  {
   "cell_type": "code",
   "execution_count": null,
   "id": "896d12ac",
   "metadata": {
    "vscode": {
     "languageId": "plaintext"
    }
   },
   "outputs": [],
   "source": []
  }
 ],
 "metadata": {
  "language_info": {
   "name": "python"
  }
 },
 "nbformat": 4,
 "nbformat_minor": 5
}
