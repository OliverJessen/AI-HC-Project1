{
 "cells": [
  {
   "cell_type": "markdown",
   "id": "2027d45e",
   "metadata": {},
   "source": [
    "# Her analysere vi dataen ift til primacy og recall osv "
   ]
  },
  {
   "cell_type": "code",
   "execution_count": 7,
   "id": "a5274038",
   "metadata": {},
   "outputs": [],
   "source": [
    "import pandas as pd\n",
    "import numpy as np\n",
    "import matplotlib.pyplot as plt\n",
    "import ast"
   ]
  },
  {
   "cell_type": "markdown",
   "id": "509d4c8d",
   "metadata": {},
   "source": [
    "### Loader data"
   ]
  },
  {
   "cell_type": "code",
   "execution_count": 8,
   "id": "cb59411f",
   "metadata": {},
   "outputs": [],
   "source": [
    "# Loader dataen\n",
    "df = pd.read_csv('../recall_experiment/data/free_recall_results.csv')"
   ]
  },
  {
   "cell_type": "markdown",
   "id": "a819c67f",
   "metadata": {},
   "source": [
    "### Opskriver funktioner "
   ]
  },
  {
   "cell_type": "code",
   "execution_count": 9,
   "id": "addcb136",
   "metadata": {},
   "outputs": [],
   "source": [
    "# Nedenstående funktion Konverterer strings som \"[reef, road, diva, duck, coin]\"\n",
    "# til faktiske lister som ['reef', 'road', 'diva', 'duck','coin']\n",
    "\n",
    "def parse_word_list(word_string):\n",
    "    \"\"\"Parse string representation of list into actual list\"\"\"\n",
    "    if pd.isna(word_string) or word_string == '[]':\n",
    "        return []\n",
    "    try:\n",
    "        # Remove quotes and brackets, then split by comma\n",
    "        cleaned = word_string.strip('[]\"')\n",
    "        if not cleaned:\n",
    "            return []\n",
    "        words = [word.strip(' \"\\'') for word in cleaned.split(',')]\n",
    "        return [word for word in words if word]\n",
    "    except:\n",
    "        return []"
   ]
  },
  {
   "cell_type": "code",
   "execution_count": 10,
   "id": "712c3193",
   "metadata": {},
   "outputs": [],
   "source": [
    "def calculate_metrics(presented, recalled):\n",
    "    \"\"\"Calculate primacy, recency and accuracy for 15-word lists\"\"\"\n",
    "    # tjekker at listen er korrekt: \n",
    "    if len(presented) != 15:\n",
    "        return {'primacy': 0, 'recency': 0, 'accuracy': 0}\n",
    "    if not recalled:\n",
    "        return {'primacy': 0, 'recency': 0, 'accuracy': 0}\n",
    "    \n",
    "    # Cleaner recalled words (lowercase, og remove duplicates)\n",
    "    recalled_clean = []\n",
    "    for word in recalled:\n",
    "        if word and word.strip():\n",
    "            word_clean = word.strip().lower()\n",
    "            if word_clean not in recalled_clean:\n",
    "                recalled_clean.append(word_clean)\n",
    "    \n",
    "    # cleaner presented words (lowercase)\n",
    "    presented_clean = [word.strip().lower() for word in presented]\n",
    "    \n",
    "    # Accuracy: \n",
    "    correct_recalls = sum(1 for word in recalled_clean if word in presented_clean)\n",
    "    accuracy = correct_recalls / 15\n",
    "    \n",
    "    # Primacy: første 5 ord\n",
    "    primacy_words = presented_clean[:5]\n",
    "    primacy_recalled = sum(1 for word in recalled_clean if word in primacy_words)\n",
    "    primacy = primacy_recalled / 5\n",
    "    \n",
    "    # Recency: sidste 5 ord\n",
    "    recency_words = presented_clean[-5:]\n",
    "    recency_recalled = sum(1 for word in recalled_clean if word in recency_words)\n",
    "    recency = recency_recalled / 5\n",
    "    \n",
    "    return {\n",
    "        'primacy': primacy,\n",
    "        'recency': recency, \n",
    "        'accuracy': accuracy\n",
    "    }"
   ]
  },
  {
   "cell_type": "markdown",
   "id": "04c03ade",
   "metadata": {},
   "source": [
    "### Bruger vores to ovenstående funktioner: "
   ]
  },
  {
   "cell_type": "code",
   "execution_count": 11,
   "id": "f714c8c6",
   "metadata": {},
   "outputs": [
    {
     "ename": "KeyError",
     "evalue": "'presented_words'",
     "output_type": "error",
     "traceback": [
      "\u001b[0;31m---------------------------------------------------------------------------\u001b[0m",
      "\u001b[0;31mKeyError\u001b[0m                                  Traceback (most recent call last)",
      "File \u001b[0;32m/opt/homebrew/Caskroom/miniconda/base/envs/IntelligentSystems/lib/python3.12/site-packages/pandas/core/indexes/base.py:3805\u001b[0m, in \u001b[0;36mIndex.get_loc\u001b[0;34m(self, key)\u001b[0m\n\u001b[1;32m   3804\u001b[0m \u001b[38;5;28;01mtry\u001b[39;00m:\n\u001b[0;32m-> 3805\u001b[0m     \u001b[38;5;28;01mreturn\u001b[39;00m \u001b[38;5;28mself\u001b[39m\u001b[38;5;241m.\u001b[39m_engine\u001b[38;5;241m.\u001b[39mget_loc(casted_key)\n\u001b[1;32m   3806\u001b[0m \u001b[38;5;28;01mexcept\u001b[39;00m \u001b[38;5;167;01mKeyError\u001b[39;00m \u001b[38;5;28;01mas\u001b[39;00m err:\n",
      "File \u001b[0;32mindex.pyx:167\u001b[0m, in \u001b[0;36mpandas._libs.index.IndexEngine.get_loc\u001b[0;34m()\u001b[0m\n",
      "File \u001b[0;32mindex.pyx:196\u001b[0m, in \u001b[0;36mpandas._libs.index.IndexEngine.get_loc\u001b[0;34m()\u001b[0m\n",
      "File \u001b[0;32mpandas/_libs/hashtable_class_helper.pxi:7081\u001b[0m, in \u001b[0;36mpandas._libs.hashtable.PyObjectHashTable.get_item\u001b[0;34m()\u001b[0m\n",
      "File \u001b[0;32mpandas/_libs/hashtable_class_helper.pxi:7089\u001b[0m, in \u001b[0;36mpandas._libs.hashtable.PyObjectHashTable.get_item\u001b[0;34m()\u001b[0m\n",
      "\u001b[0;31mKeyError\u001b[0m: 'presented_words'",
      "\nThe above exception was the direct cause of the following exception:\n",
      "\u001b[0;31mKeyError\u001b[0m                                  Traceback (most recent call last)",
      "Cell \u001b[0;32mIn[11], line 2\u001b[0m\n\u001b[1;32m      1\u001b[0m \u001b[38;5;66;03m# parser ordene\u001b[39;00m\n\u001b[0;32m----> 2\u001b[0m df[\u001b[38;5;124m'\u001b[39m\u001b[38;5;124mpresented_list\u001b[39m\u001b[38;5;124m'\u001b[39m] \u001b[38;5;241m=\u001b[39m df[\u001b[38;5;124m'\u001b[39m\u001b[38;5;124mpresented_words\u001b[39m\u001b[38;5;124m'\u001b[39m]\u001b[38;5;241m.\u001b[39mapply(parse_word_list)\n\u001b[1;32m      3\u001b[0m df[\u001b[38;5;124m'\u001b[39m\u001b[38;5;124mrecalled_list\u001b[39m\u001b[38;5;124m'\u001b[39m] \u001b[38;5;241m=\u001b[39m df[\u001b[38;5;124m'\u001b[39m\u001b[38;5;124mrecalled_words\u001b[39m\u001b[38;5;124m'\u001b[39m]\u001b[38;5;241m.\u001b[39mapply(parse_word_list)\n\u001b[1;32m      5\u001b[0m \u001b[38;5;66;03m# Regner metrics for hver række\u001b[39;00m\n",
      "File \u001b[0;32m/opt/homebrew/Caskroom/miniconda/base/envs/IntelligentSystems/lib/python3.12/site-packages/pandas/core/frame.py:4102\u001b[0m, in \u001b[0;36mDataFrame.__getitem__\u001b[0;34m(self, key)\u001b[0m\n\u001b[1;32m   4100\u001b[0m \u001b[38;5;28;01mif\u001b[39;00m \u001b[38;5;28mself\u001b[39m\u001b[38;5;241m.\u001b[39mcolumns\u001b[38;5;241m.\u001b[39mnlevels \u001b[38;5;241m>\u001b[39m \u001b[38;5;241m1\u001b[39m:\n\u001b[1;32m   4101\u001b[0m     \u001b[38;5;28;01mreturn\u001b[39;00m \u001b[38;5;28mself\u001b[39m\u001b[38;5;241m.\u001b[39m_getitem_multilevel(key)\n\u001b[0;32m-> 4102\u001b[0m indexer \u001b[38;5;241m=\u001b[39m \u001b[38;5;28mself\u001b[39m\u001b[38;5;241m.\u001b[39mcolumns\u001b[38;5;241m.\u001b[39mget_loc(key)\n\u001b[1;32m   4103\u001b[0m \u001b[38;5;28;01mif\u001b[39;00m is_integer(indexer):\n\u001b[1;32m   4104\u001b[0m     indexer \u001b[38;5;241m=\u001b[39m [indexer]\n",
      "File \u001b[0;32m/opt/homebrew/Caskroom/miniconda/base/envs/IntelligentSystems/lib/python3.12/site-packages/pandas/core/indexes/base.py:3812\u001b[0m, in \u001b[0;36mIndex.get_loc\u001b[0;34m(self, key)\u001b[0m\n\u001b[1;32m   3807\u001b[0m     \u001b[38;5;28;01mif\u001b[39;00m \u001b[38;5;28misinstance\u001b[39m(casted_key, \u001b[38;5;28mslice\u001b[39m) \u001b[38;5;129;01mor\u001b[39;00m (\n\u001b[1;32m   3808\u001b[0m         \u001b[38;5;28misinstance\u001b[39m(casted_key, abc\u001b[38;5;241m.\u001b[39mIterable)\n\u001b[1;32m   3809\u001b[0m         \u001b[38;5;129;01mand\u001b[39;00m \u001b[38;5;28many\u001b[39m(\u001b[38;5;28misinstance\u001b[39m(x, \u001b[38;5;28mslice\u001b[39m) \u001b[38;5;28;01mfor\u001b[39;00m x \u001b[38;5;129;01min\u001b[39;00m casted_key)\n\u001b[1;32m   3810\u001b[0m     ):\n\u001b[1;32m   3811\u001b[0m         \u001b[38;5;28;01mraise\u001b[39;00m InvalidIndexError(key)\n\u001b[0;32m-> 3812\u001b[0m     \u001b[38;5;28;01mraise\u001b[39;00m \u001b[38;5;167;01mKeyError\u001b[39;00m(key) \u001b[38;5;28;01mfrom\u001b[39;00m \u001b[38;5;21;01merr\u001b[39;00m\n\u001b[1;32m   3813\u001b[0m \u001b[38;5;28;01mexcept\u001b[39;00m \u001b[38;5;167;01mTypeError\u001b[39;00m:\n\u001b[1;32m   3814\u001b[0m     \u001b[38;5;66;03m# If we have a listlike key, _check_indexing_error will raise\u001b[39;00m\n\u001b[1;32m   3815\u001b[0m     \u001b[38;5;66;03m#  InvalidIndexError. Otherwise we fall through and re-raise\u001b[39;00m\n\u001b[1;32m   3816\u001b[0m     \u001b[38;5;66;03m#  the TypeError.\u001b[39;00m\n\u001b[1;32m   3817\u001b[0m     \u001b[38;5;28mself\u001b[39m\u001b[38;5;241m.\u001b[39m_check_indexing_error(key)\n",
      "\u001b[0;31mKeyError\u001b[0m: 'presented_words'"
     ]
    }
   ],
   "source": [
    "# parser ordene\n",
    "df['presented_list'] = df['presented_words'].apply(parse_word_list)\n",
    "df['recalled_list'] = df['recalled_words'].apply(parse_word_list)\n",
    "\n",
    "# Regner metrics for hver række\n",
    "results = []\n",
    "for _, row in df.iterrows():\n",
    "    metrics = calculate_metrics(row['presented_list'], row['recalled_list'])\n",
    "    metrics['trial'] = row['trial']\n",
    "    results.append(metrics)\n",
    "\n",
    "results_df = pd.DataFrame(results)\n",
    "print(results_df.head())"
   ]
  },
  {
   "cell_type": "code",
   "execution_count": null,
   "id": "91913a5f",
   "metadata": {},
   "outputs": [
    {
     "name": "stdout",
     "output_type": "stream",
     "text": [
      "\n",
      "Free Recall Analysis - Summary Statistics:\n",
      "Average Accuracy: 0.378\n",
      "Average Primacy (first 5): 0.400\n",
      "Average Recency (last 5): 0.733\n",
      "Primacy vs Recency difference: 0.333\n"
     ]
    }
   ],
   "source": [
    "# Summary statistics\n",
    "print(\"\\nFree Recall Analysis - Summary Statistics:\")\n",
    "print(f\"Average Accuracy: {results_df['accuracy'].mean():.3f}\")\n",
    "print(f\"Average Primacy: {results_df['primacy'].mean():.3f}\")\n",
    "print(f\"Average Recency: {results_df['recency'].mean():.3f}\")\n",
    "print(f\"Primacy vs Recency difference: {results_df['recency'].mean() - results_df['primacy'].mean():.3f}\")"
   ]
  },
  {
   "cell_type": "markdown",
   "id": "6a578e15",
   "metadata": {},
   "source": [
    "### Funktion til Serial Position Curve (SPC)"
   ]
  },
  {
   "cell_type": "code",
   "execution_count": null,
   "id": "22d35d69",
   "metadata": {},
   "outputs": [],
   "source": [
    "# Serial Position Curve Analysis\n",
    "def serial_position_analysis(df):\n",
    "    position_recalls = [0] * 15\n",
    "    position_totals = [0] * 15\n",
    "    \n",
    "    for _, row in df.iterrows():\n",
    "        presented = row['presented_list']\n",
    "        recalled = row['recalled_list']\n",
    "        \n",
    "        if len(presented) != 15 or not recalled:\n",
    "            continue\n",
    "            \n",
    "        presented_clean = [word.strip().lower() for word in presented]\n",
    "        recalled_clean = [word.strip().lower() for word in recalled if word and word.strip()]\n",
    "        \n",
    "        for pos in range(15):\n",
    "            position_totals[pos] += 1\n",
    "            if presented_clean[pos] in recalled_clean:\n",
    "                position_recalls[pos] += 1\n",
    "    \n",
    "    recall_probs = [recalls/total if total > 0 else 0 \n",
    "                   for recalls, total in zip(position_recalls, position_totals)]\n",
    "    \n",
    "    return recall_probs"
   ]
  },
  {
   "cell_type": "markdown",
   "id": "5e1942c5",
   "metadata": {},
   "source": [
    "### Ultimate Giga plot"
   ]
  },
  {
   "cell_type": "code",
   "execution_count": null,
   "id": "95cfd0c8",
   "metadata": {},
   "outputs": [
    {
     "ename": "NameError",
     "evalue": "name 'serial_position_analysis' is not defined",
     "output_type": "error",
     "traceback": [
      "\u001b[0;31m---------------------------------------------------------------------------\u001b[0m",
      "\u001b[0;31mNameError\u001b[0m                                 Traceback (most recent call last)",
      "Cell \u001b[0;32mIn[1], line 2\u001b[0m\n\u001b[1;32m      1\u001b[0m \u001b[38;5;66;03m# Get serial position data\u001b[39;00m\n\u001b[0;32m----> 2\u001b[0m recall_probs \u001b[38;5;241m=\u001b[39m serial_position_analysis(df)\n\u001b[1;32m      3\u001b[0m positions \u001b[38;5;241m=\u001b[39m \u001b[38;5;28mlist\u001b[39m(\u001b[38;5;28mrange\u001b[39m(\u001b[38;5;241m1\u001b[39m, \u001b[38;5;241m16\u001b[39m))\n\u001b[1;32m      5\u001b[0m \u001b[38;5;66;03m# Create plots\u001b[39;00m\n",
      "\u001b[0;31mNameError\u001b[0m: name 'serial_position_analysis' is not defined"
     ]
    }
   ],
   "source": [
    "# Get serial position data\n",
    "recall_probs = serial_position_analysis(df)\n",
    "positions = list(range(1, 16))\n",
    "\n",
    "# Create plots\n",
    "fig, ((ax1, ax2), (ax3, ax4)) = plt.subplots(2, 2, figsize=(15, 10))\n",
    "\n",
    "# 1. Serial Position Curve\n",
    "ax1.plot(positions, recall_probs, 'bo-', linewidth=2, markersize=8)\n",
    "ax1.set_xlabel('Serial Position')\n",
    "ax1.set_ylabel('Recall Probability')\n",
    "ax1.set_title('Serial Position Curve - Free Recall')\n",
    "ax1.grid(True, alpha=0.3)\n",
    "ax1.set_ylim(0, 1)\n",
    "ax1.set_xticks(range(1, 16))\n",
    "\n",
    "# 2. Primacy vs Recency\n",
    "categories = ['Primacy\\n(Positions 1-5)', 'Recency\\n(Positions 11-15)']\n",
    "values = [results_df['primacy'].mean(), results_df['recency'].mean()]\n",
    "colors = ['lightblue', 'lightcoral']\n",
    "\n",
    "bars = ax2.bar(categories, values, color=colors, alpha=0.7, edgecolor='black')\n",
    "ax2.set_ylabel('Average Recall Probability')\n",
    "ax2.set_title('Primacy vs Recency Effect')\n",
    "ax2.set_ylim(0, 1)\n",
    "\n",
    "for bar, value in zip(bars, values):\n",
    "    ax2.text(bar.get_x() + bar.get_width()/2, bar.get_height() + 0.02, \n",
    "             f'{value:.3f}', ha='center', va='bottom', fontweight='bold')\n",
    "\n",
    "# 3. Accuracy by Trial\n",
    "ax3.plot(results_df['trial'], results_df['accuracy'], 'go-', linewidth=2, markersize=6)\n",
    "ax3.set_xlabel('Trial Number')\n",
    "ax3.set_ylabel('Accuracy')\n",
    "ax3.set_title('Accuracy Across Trials')\n",
    "ax3.grid(True, alpha=0.3)\n",
    "ax3.set_ylim(0, 1)\n",
    "\n",
    "# 4. Position Groups\n",
    "positions_grouped = ['Early\\n(1-5)', 'Middle\\n(6-10)', 'Late\\n(11-15)']\n",
    "early_prob = np.mean(recall_probs[:5])\n",
    "middle_prob = np.mean(recall_probs[5:10]) \n",
    "late_prob = np.mean(recall_probs[10:15])\n",
    "\n",
    "values_grouped = [early_prob, middle_prob, late_prob]\n",
    "colors_grouped = ['lightblue', 'lightgray', 'lightcoral']\n",
    "\n",
    "bars2 = ax4.bar(positions_grouped, values_grouped, color=colors_grouped, alpha=0.7, edgecolor='black')\n",
    "ax4.set_ylabel('Average Recall Probability')\n",
    "ax4.set_title('Recall by Position Groups')\n",
    "ax4.set_ylim(0, 1)\n",
    "\n",
    "for bar, value in zip(bars2, values_grouped):\n",
    "    ax4.text(bar.get_x() + bar.get_width()/2, bar.get_height() + 0.02, \n",
    "             f'{value:.3f}', ha='center', va='bottom', fontweight='bold')\n",
    "\n",
    "plt.tight_layout()\n",
    "plt.show()"
   ]
  },
  {
   "cell_type": "code",
   "execution_count": null,
   "id": "896d12ac",
   "metadata": {},
   "outputs": [
    {
     "name": "stdout",
     "output_type": "stream",
     "text": [
      "\n",
      "Detailed Results:\n",
      "   primacy  recency  accuracy  trial\n",
      "0      0.8      0.6  0.466667      1\n",
      "1      0.4      0.6  0.333333      2\n",
      "2      0.0      1.0  0.333333      3\n",
      "\n",
      "Recall probability by position:\n",
      "Position  1: 0.667\n",
      "Position  2: 0.000\n",
      "Position  3: 0.333\n",
      "Position  4: 0.667\n",
      "Position  5: 0.333\n",
      "Position  6: 0.000\n",
      "Position  7: 0.000\n",
      "Position  8: 0.000\n",
      "Position  9: 0.000\n",
      "Position 10: 0.000\n",
      "Position 11: 0.333\n",
      "Position 12: 0.333\n",
      "Position 13: 1.000\n",
      "Position 14: 1.000\n",
      "Position 15: 1.000\n"
     ]
    }
   ],
   "source": [
    "# Display results\n",
    "print(\"\\nDetailed Results:\")\n",
    "print(results_df)\n",
    "\n",
    "print(\"\\nRecall probability by position:\")\n",
    "for i, prob in enumerate(recall_probs, 1):\n",
    "    print(f\"Position {i:2d}: {prob:.3f}\")"
   ]
  }
 ],
 "metadata": {
  "kernelspec": {
   "display_name": "IntelligentSystems",
   "language": "python",
   "name": "python3"
  },
  "language_info": {
   "codemirror_mode": {
    "name": "ipython",
    "version": 3
   },
   "file_extension": ".py",
   "mimetype": "text/x-python",
   "name": "python",
   "nbconvert_exporter": "python",
   "pygments_lexer": "ipython3",
   "version": "3.12.5"
  }
 },
 "nbformat": 4,
 "nbformat_minor": 5
}
