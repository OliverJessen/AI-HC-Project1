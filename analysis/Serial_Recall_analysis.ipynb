{
 "cells": [
  {
   "cell_type": "markdown",
   "id": "e8d729ef",
   "metadata": {},
   "source": [
    "# Data analysis for Free Recall wrt. primacy/recency effect, etc."
   ]
  },
  {
   "cell_type": "code",
   "execution_count": 1,
   "id": "ae87edcb",
   "metadata": {},
   "outputs": [],
   "source": [
    "import pandas as pd\n",
    "import numpy as np\n",
    "import matplotlib.pyplot as plt\n",
    "import ast\n",
    "import os"
   ]
  },
  {
   "cell_type": "code",
   "execution_count": 2,
   "id": "d1478350",
   "metadata": {},
   "outputs": [
    {
     "name": "stdout",
     "output_type": "stream",
     "text": [
      "c:\\Users\\Oliver\\OneDrive\\Dokumenter\\GitHub\\AI-HC-Project1\\analysis\n",
      "c:\\Users\\Oliver\\OneDrive\\Dokumenter\\GitHub\\AI-HC-Project1\\Experiment_Output\\serial_recall_results.csv\n"
     ]
    }
   ],
   "source": [
    "# Load the data\n",
    "filepath = os.getcwd() # Get the current working directory to analysis\n",
    "\n",
    "results_filepath = os.path.abspath(os.path.join(filepath,'..','Experiment_Output','serial_recall_results.csv'))\n",
    "\n",
    "print(f\"{filepath}\\n{results_filepath}\")\n",
    "\n",
    "df = pd.read_csv(results_filepath)"
   ]
  },
  {
   "cell_type": "code",
   "execution_count": 3,
   "id": "7d776f77",
   "metadata": {},
   "outputs": [
    {
     "name": "stdout",
     "output_type": "stream",
     "text": [
      "✅ Cleaned data saved to c:\\Users\\Oliver\\OneDrive\\Dokumenter\\GitHub\\AI-HC-Project1\\Experiment_Output\\serial_recall_results_cleaned.csv\n"
     ]
    }
   ],
   "source": [
    "# --- Cleaning function ---\n",
    "def clean_word_list(val):\n",
    "    if pd.isna(val):\n",
    "        return []\n",
    "    text = str(val).strip()       # make sure it's string\n",
    "    text = text.strip(\"[]\")       # remove brackets\n",
    "\n",
    "    # Split on commas if they exist, otherwise on spaces\n",
    "    if \",\" in text:\n",
    "        parts = text.split(\",\")\n",
    "    else:\n",
    "        parts = text.split()\n",
    "\n",
    "    return [w.strip().lower() for w in parts if w.strip()]\n",
    "\n",
    "# --- Load raw file ---\n",
    "df_test = pd.read_csv(results_filepath)\n",
    "\n",
    "# --- Clean column names ---\n",
    "df_test.columns = df_test.columns.str.strip()\n",
    "\n",
    "# --- Apply cleaning ---\n",
    "df_test['presented_words'] = df_test['presented_words'].apply(clean_word_list)\n",
    "df_test['recalled_words']  = df_test['recalled_words'].apply(clean_word_list)\n",
    "\n",
    "# --- update trial ID and sort by test type (baseline, fast, break, task) ---\n",
    "df_test['trial'] = df_test['trial'].astype(int)\n",
    "df_test = df_test.sort_values(by=['condition', 'trial']).reset_index(drop=True)\n",
    "df_test['trial'] = df_test.groupby('condition').cumcount() + 1\n",
    "\n",
    "# --- Save to a new CSV file ---\n",
    "cleaned_filepath = os.path.abspath(os.path.join(filepath,'..','Experiment_Output','serial_recall_results_cleaned.csv'))\n",
    "df_test.to_csv(cleaned_filepath, index=False)\n",
    "\n",
    "print(f\"✅ Cleaned data saved to {cleaned_filepath}\")\n",
    "\n",
    "# --- print some of the cleaned data and its type ---\n",
    "# print(df_test.head(), type(df_test.head()))\n",
    "# print(type(df_test['recalled_words'][0]), type(df_test['presented_words'][0]))\n"
   ]
  },
  {
   "cell_type": "markdown",
   "id": "dfc5a58d",
   "metadata": {},
   "source": []
  }
 ],
 "metadata": {
  "kernelspec": {
   "display_name": "base",
   "language": "python",
   "name": "python3"
  },
  "language_info": {
   "codemirror_mode": {
    "name": "ipython",
    "version": 3
   },
   "file_extension": ".py",
   "mimetype": "text/x-python",
   "name": "python",
   "nbconvert_exporter": "python",
   "pygments_lexer": "ipython3",
   "version": "3.11.11"
  }
 },
 "nbformat": 4,
 "nbformat_minor": 5
}
